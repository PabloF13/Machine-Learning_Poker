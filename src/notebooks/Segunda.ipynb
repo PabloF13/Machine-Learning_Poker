{
 "cells": [
  {
   "cell_type": "code",
   "execution_count": 13,
   "id": "3a7de45c-c9ec-43e3-a25d-e3778c0cfd78",
   "metadata": {},
   "outputs": [],
   "source": [
    "import pickle\n",
    "with open('data_transform3.pickle', 'rb') as f:\n",
    "    data_transform3 = pickle.load(f)"
   ]
  },
  {
   "cell_type": "markdown",
   "id": "4bd298d6-e518-4115-9853-89a26f72d1b2",
   "metadata": {},
   "source": [
    "## Segunda Transformación"
   ]
  },
  {
   "cell_type": "code",
   "execution_count": 15,
   "id": "c679ec00-426d-45ce-9a5c-b1d347b03672",
   "metadata": {},
   "outputs": [
    {
     "data": {
      "text/html": [
       "<div>\n",
       "<style scoped>\n",
       "    .dataframe tbody tr th:only-of-type {\n",
       "        vertical-align: middle;\n",
       "    }\n",
       "\n",
       "    .dataframe tbody tr th {\n",
       "        vertical-align: top;\n",
       "    }\n",
       "\n",
       "    .dataframe thead th {\n",
       "        text-align: right;\n",
       "    }\n",
       "</style>\n",
       "<table border=\"1\" class=\"dataframe\">\n",
       "  <thead>\n",
       "    <tr style=\"text-align: right;\">\n",
       "      <th></th>\n",
       "      <th>AS</th>\n",
       "      <th>DOS</th>\n",
       "      <th>TRES</th>\n",
       "      <th>CUATRO</th>\n",
       "      <th>CINCO</th>\n",
       "      <th>SEIS</th>\n",
       "      <th>SIETE</th>\n",
       "      <th>OCHO</th>\n",
       "      <th>NUEVE</th>\n",
       "      <th>DIEZ</th>\n",
       "      <th>JOTA</th>\n",
       "      <th>REINA</th>\n",
       "      <th>REY</th>\n",
       "      <th>SUIT</th>\n",
       "      <th>HAND</th>\n",
       "    </tr>\n",
       "  </thead>\n",
       "  <tbody>\n",
       "    <tr>\n",
       "      <th>0</th>\n",
       "      <td>1</td>\n",
       "      <td>0</td>\n",
       "      <td>1</td>\n",
       "      <td>1</td>\n",
       "      <td>0</td>\n",
       "      <td>0</td>\n",
       "      <td>0</td>\n",
       "      <td>0</td>\n",
       "      <td>0</td>\n",
       "      <td>0</td>\n",
       "      <td>0</td>\n",
       "      <td>1</td>\n",
       "      <td>1</td>\n",
       "      <td>0</td>\n",
       "      <td>0</td>\n",
       "    </tr>\n",
       "    <tr>\n",
       "      <th>1</th>\n",
       "      <td>0</td>\n",
       "      <td>1</td>\n",
       "      <td>0</td>\n",
       "      <td>0</td>\n",
       "      <td>2</td>\n",
       "      <td>0</td>\n",
       "      <td>0</td>\n",
       "      <td>0</td>\n",
       "      <td>0</td>\n",
       "      <td>0</td>\n",
       "      <td>1</td>\n",
       "      <td>1</td>\n",
       "      <td>0</td>\n",
       "      <td>0</td>\n",
       "      <td>1</td>\n",
       "    </tr>\n",
       "    <tr>\n",
       "      <th>2</th>\n",
       "      <td>0</td>\n",
       "      <td>1</td>\n",
       "      <td>0</td>\n",
       "      <td>1</td>\n",
       "      <td>0</td>\n",
       "      <td>1</td>\n",
       "      <td>0</td>\n",
       "      <td>0</td>\n",
       "      <td>2</td>\n",
       "      <td>0</td>\n",
       "      <td>0</td>\n",
       "      <td>0</td>\n",
       "      <td>0</td>\n",
       "      <td>0</td>\n",
       "      <td>1</td>\n",
       "    </tr>\n",
       "    <tr>\n",
       "      <th>3</th>\n",
       "      <td>1</td>\n",
       "      <td>0</td>\n",
       "      <td>0</td>\n",
       "      <td>1</td>\n",
       "      <td>0</td>\n",
       "      <td>1</td>\n",
       "      <td>0</td>\n",
       "      <td>0</td>\n",
       "      <td>0</td>\n",
       "      <td>0</td>\n",
       "      <td>0</td>\n",
       "      <td>0</td>\n",
       "      <td>2</td>\n",
       "      <td>0</td>\n",
       "      <td>1</td>\n",
       "    </tr>\n",
       "    <tr>\n",
       "      <th>4</th>\n",
       "      <td>0</td>\n",
       "      <td>1</td>\n",
       "      <td>0</td>\n",
       "      <td>0</td>\n",
       "      <td>0</td>\n",
       "      <td>0</td>\n",
       "      <td>1</td>\n",
       "      <td>0</td>\n",
       "      <td>1</td>\n",
       "      <td>1</td>\n",
       "      <td>1</td>\n",
       "      <td>0</td>\n",
       "      <td>0</td>\n",
       "      <td>0</td>\n",
       "      <td>0</td>\n",
       "    </tr>\n",
       "  </tbody>\n",
       "</table>\n",
       "</div>"
      ],
      "text/plain": [
       "   AS  DOS  TRES  CUATRO  CINCO  SEIS  SIETE  OCHO  NUEVE  DIEZ  JOTA  REINA  \\\n",
       "0   1    0     1       1      0     0      0     0      0     0     0      1   \n",
       "1   0    1     0       0      2     0      0     0      0     0     1      1   \n",
       "2   0    1     0       1      0     1      0     0      2     0     0      0   \n",
       "3   1    0     0       1      0     1      0     0      0     0     0      0   \n",
       "4   0    1     0       0      0     0      1     0      1     1     1      0   \n",
       "\n",
       "   REY  SUIT  HAND  \n",
       "0    1     0     0  \n",
       "1    0     0     1  \n",
       "2    0     0     1  \n",
       "3    2     0     1  \n",
       "4    0     0     0  "
      ]
     },
     "execution_count": 15,
     "metadata": {},
     "output_type": "execute_result"
    }
   ],
   "source": [
    "data_transform3.head()"
   ]
  },
  {
   "cell_type": "code",
   "execution_count": 2,
   "id": "1aabb738-553a-4f6f-8fcf-1f62a9d918a3",
   "metadata": {},
   "outputs": [],
   "source": [
    "X = data_transform3.iloc[:, 0:-1]\n",
    "y = data_transform3.iloc[:, -1:]"
   ]
  },
  {
   "cell_type": "code",
   "execution_count": 3,
   "id": "19695bca-8d3d-4c19-94a8-488bc66875ff",
   "metadata": {
    "tags": []
   },
   "outputs": [],
   "source": [
    "from sklearn.model_selection import train_test_split\n",
    "\n",
    "X_train_full, X_test, y_train_full, y_test = train_test_split(X, y,\n",
    "                                                    stratify=y, \n",
    "                                                    test_size=0.2,\n",
    "                                                    random_state = 42)\n",
    "\n",
    "X_train, X_val, y_train, y_val = train_test_split(X_train_full, y_train_full,\n",
    "                                                    stratify=y_train_full, \n",
    "                                                    test_size=0.2,\n",
    "                                                    random_state = 42)\n"
   ]
  },
  {
   "cell_type": "code",
   "execution_count": 5,
   "id": "bdcfc3c8-d8a7-4de6-a6bf-65c0fed3ebc8",
   "metadata": {},
   "outputs": [
    {
     "name": "stdout",
     "output_type": "stream",
     "text": [
      "Epoch 1/10\n",
      "2500/2500 [==============================] - 3s 1ms/step - loss: 0.1267 - sparse_categorical_accuracy: 0.9684 - val_loss: 0.0063 - val_sparse_categorical_accuracy: 0.9985\n",
      "Epoch 2/10\n",
      "2500/2500 [==============================] - 3s 1ms/step - loss: 0.0024 - sparse_categorical_accuracy: 0.9997 - val_loss: 6.5944e-04 - val_sparse_categorical_accuracy: 1.0000\n",
      "Epoch 3/10\n",
      "2500/2500 [==============================] - 3s 1ms/step - loss: 3.8038e-04 - sparse_categorical_accuracy: 1.0000 - val_loss: 1.6174e-04 - val_sparse_categorical_accuracy: 1.0000\n",
      "Epoch 4/10\n",
      "2500/2500 [==============================] - 3s 1ms/step - loss: 4.2296e-04 - sparse_categorical_accuracy: 0.9999 - val_loss: 8.1866e-05 - val_sparse_categorical_accuracy: 1.0000\n",
      "Epoch 5/10\n",
      "2500/2500 [==============================] - 3s 1ms/step - loss: 8.0024e-05 - sparse_categorical_accuracy: 1.0000 - val_loss: 7.3495e-05 - val_sparse_categorical_accuracy: 1.0000\n",
      "Epoch 6/10\n",
      "2500/2500 [==============================] - 3s 1ms/step - loss: 2.5067e-04 - sparse_categorical_accuracy: 0.9999 - val_loss: 2.0527e-05 - val_sparse_categorical_accuracy: 1.0000\n",
      "Epoch 7/10\n",
      "2500/2500 [==============================] - 3s 1ms/step - loss: 3.2053e-05 - sparse_categorical_accuracy: 1.0000 - val_loss: 1.6914e-05 - val_sparse_categorical_accuracy: 1.0000\n",
      "Epoch 8/10\n",
      "2500/2500 [==============================] - 3s 1ms/step - loss: 2.7981e-04 - sparse_categorical_accuracy: 0.9999 - val_loss: 9.3773e-06 - val_sparse_categorical_accuracy: 1.0000\n",
      "Epoch 9/10\n",
      "2500/2500 [==============================] - 3s 1ms/step - loss: 2.9824e-04 - sparse_categorical_accuracy: 0.9999 - val_loss: 2.0721e-05 - val_sparse_categorical_accuracy: 1.0000\n",
      "Epoch 10/10\n",
      "2500/2500 [==============================] - 3s 1ms/step - loss: 8.0117e-06 - sparse_categorical_accuracy: 1.0000 - val_loss: 6.2118e-06 - val_sparse_categorical_accuracy: 1.0000\n"
     ]
    }
   ],
   "source": [
    "import keras\n",
    "from keras.models import Sequential\n",
    "from keras.layers import Dense, Dropout, Activation\n",
    "\n",
    "\n",
    "\n",
    "model = Sequential()\n",
    "model.add(Dense(100, activation='relu', input_dim=14))\n",
    "model.add(Dense(100, activation='relu'))\n",
    "model.add(Dense(10, activation='softmax'))\n",
    "model.compile(loss='sparse_categorical_crossentropy',\n",
    "              optimizer='adam',\n",
    "              metrics=['sparse_categorical_accuracy'])\n",
    "\n",
    "\n",
    "history = model.fit(X_train, y_train, epochs = 10, batch_size = 256, verbose=1,validation_data=(X_val, y_val))\n"
   ]
  },
  {
   "cell_type": "code",
   "execution_count": 6,
   "id": "997f0554-f955-4789-9f31-1abb1a100101",
   "metadata": {},
   "outputs": [
    {
     "name": "stdout",
     "output_type": "stream",
     "text": [
      "782/782 [==============================] - 1s 1ms/step - loss: 6.0883e-06 - sparse_categorical_accuracy: 1.0000\n"
     ]
    },
    {
     "data": {
      "text/plain": [
       "[6.088347618060652e-06, 1.0]"
      ]
     },
     "execution_count": 6,
     "metadata": {},
     "output_type": "execute_result"
    }
   ],
   "source": [
    "score = model.evaluate(X_test, y_test, batch_size = 256)\n",
    "score"
   ]
  },
  {
   "cell_type": "code",
   "execution_count": 7,
   "id": "feb20bcc-a7b7-41c8-a470-cf065d28e750",
   "metadata": {},
   "outputs": [],
   "source": [
    "y_pred=model.predict(X_test).argmax(axis=1)"
   ]
  },
  {
   "cell_type": "code",
   "execution_count": 11,
   "id": "2a5c39ff-ce8e-4852-be0b-d3cf94ced50b",
   "metadata": {},
   "outputs": [
    {
     "data": {
      "image/png": "[encoded data removed]",
      "text/plain": [
       "<Figure size 720x720 with 2 Axes>"
      ]
     },
     "metadata": {
      "needs_background": "light"
     },
     "output_type": "display_data"
    }
   ],
   "source": [
    "from sklearn.metrics import confusion_matrix\n",
    "import matplotlib.pyplot as plt\n",
    "import seaborn as sns\n",
    "\n",
    "c_matrix = confusion_matrix(y_test, y_pred, normalize='true')\n",
    "\n",
    "fig, ax = plt.subplots(figsize=(10,10))\n",
    "sns.heatmap(c_matrix, annot=True, \n",
    "            cmap='Blues', ax=ax); "
   ]
  },
  {
   "cell_type": "markdown",
   "id": "c72a0328-f6da-4d82-b7fb-de30c0495a3e",
   "metadata": {},
   "source": [
    "## Guardar Modelo"
   ]
  },
  {
   "cell_type": "code",
   "execution_count": 12,
   "id": "e981167e-3f24-4acc-a385-cac5962e4f6f",
   "metadata": {},
   "outputs": [],
   "source": [
    "model.save(\"my_keras_model4.h5\")"
   ]
  }
 ],
 "metadata": {
  "kernelspec": {
   "display_name": "Python 3",
   "language": "python",
   "name": "python3"
  },
  "language_info": {
   "codemirror_mode": {
    "name": "ipython",
    "version": 3
   },
   "file_extension": ".py",
   "mimetype": "text/x-python",
   "name": "python",
   "nbconvert_exporter": "python",
   "pygments_lexer": "ipython3",
   "version": "3.8.8"
  }
 },
 "nbformat": 4,
 "nbformat_minor": 5
}
