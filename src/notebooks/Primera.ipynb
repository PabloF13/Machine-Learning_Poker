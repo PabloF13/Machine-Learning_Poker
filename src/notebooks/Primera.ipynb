{
 "cells": [
  {
   "cell_type": "code",
   "execution_count": 11,
   "id": "32e4ee9d-7648-4774-82c3-a01ae6e35b52",
   "metadata": {},
   "outputs": [],
   "source": [
    "import numpy as np\n",
    "import pandas as pd \n",
    "import matplotlib.pyplot as plt\n",
    "import seaborn as sns\n",
    "from sklearn.model_selection import StratifiedShuffleSplit\n",
    "from sklearn.tree import DecisionTreeClassifier\n",
    "from sklearn.metrics import plot_confusion_matrix\n",
    "from sklearn.metrics import accuracy_score, f1_score, precision_score, recall_score,\\\n",
    "                            roc_auc_score, roc_curve, precision_recall_curve, confusion_matrix\n",
    "from sklearn.preprocessing import StandardScaler"
   ]
  },
  {
   "cell_type": "code",
   "execution_count": 12,
   "id": "f8654138-6cf9-4c23-a225-fcd2c9c89001",
   "metadata": {},
   "outputs": [],
   "source": [
    "import pickle\n",
    "with open('df_all.pickle', 'rb') as f:\n",
    "    df_all = pickle.load(f)"
   ]
  },
  {
   "cell_type": "markdown",
   "id": "c6f8861d-1d5c-42ec-a969-6f67c89a6858",
   "metadata": {},
   "source": [
    "## Primera Transformación\n"
   ]
  },
  {
   "cell_type": "code",
   "execution_count": 21,
   "id": "99e6c645-ea7b-4e87-a66a-dccd806d41ea",
   "metadata": {},
   "outputs": [
    {
     "data": {
      "text/html": [
       "<div>\n",
       "<style scoped>\n",
       "    .dataframe tbody tr th:only-of-type {\n",
       "        vertical-align: middle;\n",
       "    }\n",
       "\n",
       "    .dataframe tbody tr th {\n",
       "        vertical-align: top;\n",
       "    }\n",
       "\n",
       "    .dataframe thead th {\n",
       "        text-align: right;\n",
       "    }\n",
       "</style>\n",
       "<table border=\"1\" class=\"dataframe\">\n",
       "  <thead>\n",
       "    <tr style=\"text-align: right;\">\n",
       "      <th></th>\n",
       "      <th>AS</th>\n",
       "      <th>DOS</th>\n",
       "      <th>TRES</th>\n",
       "      <th>CUATRO</th>\n",
       "      <th>CINCO</th>\n",
       "      <th>SEIS</th>\n",
       "      <th>SIETE</th>\n",
       "      <th>OCHO</th>\n",
       "      <th>NUEVE</th>\n",
       "      <th>DIEZ</th>\n",
       "      <th>JOTA</th>\n",
       "      <th>REINA</th>\n",
       "      <th>REY</th>\n",
       "      <th>CORAZON</th>\n",
       "      <th>PICAS</th>\n",
       "      <th>DIAMANTES</th>\n",
       "      <th>TREBOL</th>\n",
       "      <th>HAND</th>\n",
       "    </tr>\n",
       "  </thead>\n",
       "  <tbody>\n",
       "    <tr>\n",
       "      <th>0</th>\n",
       "      <td>1</td>\n",
       "      <td>0</td>\n",
       "      <td>1</td>\n",
       "      <td>1</td>\n",
       "      <td>0</td>\n",
       "      <td>0</td>\n",
       "      <td>0</td>\n",
       "      <td>0</td>\n",
       "      <td>0</td>\n",
       "      <td>0</td>\n",
       "      <td>0</td>\n",
       "      <td>1</td>\n",
       "      <td>1</td>\n",
       "      <td>3</td>\n",
       "      <td>2</td>\n",
       "      <td>0</td>\n",
       "      <td>0</td>\n",
       "      <td>0</td>\n",
       "    </tr>\n",
       "    <tr>\n",
       "      <th>1</th>\n",
       "      <td>0</td>\n",
       "      <td>1</td>\n",
       "      <td>0</td>\n",
       "      <td>0</td>\n",
       "      <td>2</td>\n",
       "      <td>0</td>\n",
       "      <td>0</td>\n",
       "      <td>0</td>\n",
       "      <td>0</td>\n",
       "      <td>0</td>\n",
       "      <td>1</td>\n",
       "      <td>1</td>\n",
       "      <td>0</td>\n",
       "      <td>0</td>\n",
       "      <td>1</td>\n",
       "      <td>3</td>\n",
       "      <td>1</td>\n",
       "      <td>1</td>\n",
       "    </tr>\n",
       "    <tr>\n",
       "      <th>2</th>\n",
       "      <td>0</td>\n",
       "      <td>1</td>\n",
       "      <td>0</td>\n",
       "      <td>1</td>\n",
       "      <td>0</td>\n",
       "      <td>1</td>\n",
       "      <td>0</td>\n",
       "      <td>0</td>\n",
       "      <td>2</td>\n",
       "      <td>0</td>\n",
       "      <td>0</td>\n",
       "      <td>0</td>\n",
       "      <td>0</td>\n",
       "      <td>2</td>\n",
       "      <td>0</td>\n",
       "      <td>2</td>\n",
       "      <td>1</td>\n",
       "      <td>1</td>\n",
       "    </tr>\n",
       "    <tr>\n",
       "      <th>3</th>\n",
       "      <td>1</td>\n",
       "      <td>0</td>\n",
       "      <td>0</td>\n",
       "      <td>1</td>\n",
       "      <td>0</td>\n",
       "      <td>1</td>\n",
       "      <td>0</td>\n",
       "      <td>0</td>\n",
       "      <td>0</td>\n",
       "      <td>0</td>\n",
       "      <td>0</td>\n",
       "      <td>0</td>\n",
       "      <td>2</td>\n",
       "      <td>1</td>\n",
       "      <td>2</td>\n",
       "      <td>2</td>\n",
       "      <td>0</td>\n",
       "      <td>1</td>\n",
       "    </tr>\n",
       "    <tr>\n",
       "      <th>4</th>\n",
       "      <td>0</td>\n",
       "      <td>1</td>\n",
       "      <td>0</td>\n",
       "      <td>0</td>\n",
       "      <td>0</td>\n",
       "      <td>0</td>\n",
       "      <td>1</td>\n",
       "      <td>0</td>\n",
       "      <td>1</td>\n",
       "      <td>1</td>\n",
       "      <td>1</td>\n",
       "      <td>0</td>\n",
       "      <td>0</td>\n",
       "      <td>1</td>\n",
       "      <td>2</td>\n",
       "      <td>1</td>\n",
       "      <td>1</td>\n",
       "      <td>0</td>\n",
       "    </tr>\n",
       "  </tbody>\n",
       "</table>\n",
       "</div>"
      ],
      "text/plain": [
       "   AS  DOS  TRES  CUATRO  CINCO  SEIS  SIETE  OCHO  NUEVE  DIEZ  JOTA  REINA  \\\n",
       "0   1    0     1       1      0     0      0     0      0     0     0      1   \n",
       "1   0    1     0       0      2     0      0     0      0     0     1      1   \n",
       "2   0    1     0       1      0     1      0     0      2     0     0      0   \n",
       "3   1    0     0       1      0     1      0     0      0     0     0      0   \n",
       "4   0    1     0       0      0     0      1     0      1     1     1      0   \n",
       "\n",
       "   REY  CORAZON  PICAS  DIAMANTES  TREBOL  HAND  \n",
       "0    1        3      2          0       0     0  \n",
       "1    0        0      1          3       1     1  \n",
       "2    0        2      0          2       1     1  \n",
       "3    2        1      2          2       0     1  \n",
       "4    0        1      2          1       1     0  "
      ]
     },
     "execution_count": 21,
     "metadata": {},
     "output_type": "execute_result"
    }
   ],
   "source": [
    "df_all.head()"
   ]
  },
  {
   "cell_type": "code",
   "execution_count": 14,
   "id": "a560a334-9635-4ff5-a669-bdd066396474",
   "metadata": {},
   "outputs": [],
   "source": [
    "X = df_all.iloc[:, 0:-1]\n",
    "y = df_all.iloc[:, -1:]"
   ]
  },
  {
   "cell_type": "code",
   "execution_count": 15,
   "id": "2df27cb4-5e40-431e-a713-3f200c47cd5b",
   "metadata": {},
   "outputs": [
    {
     "name": "stdout",
     "output_type": "stream",
     "text": [
      "(1000000, 17)\n",
      "(1000000, 1)\n"
     ]
    }
   ],
   "source": [
    "print(X.shape)\n",
    "print(y.shape)"
   ]
  },
  {
   "cell_type": "code",
   "execution_count": 16,
   "id": "81aabb27-ee65-44ee-8f2b-9c359a50b611",
   "metadata": {},
   "outputs": [],
   "source": [
    "from sklearn.model_selection import train_test_split\n",
    "\n",
    "X_train_full, X_test, y_train_full, y_test = train_test_split(X, y,\n",
    "                                                    stratify=y, \n",
    "                                                    test_size=0.2,\n",
    "                                                    random_state = 42)\n",
    "\n",
    "X_train, X_val, y_train, y_val = train_test_split(X_train_full, y_train_full,\n",
    "                                                    stratify=y_train_full, \n",
    "                                                    test_size=0.2,\n",
    "                                                    random_state = 42)\n"
   ]
  },
  {
   "cell_type": "code",
   "execution_count": 6,
   "id": "aec34c9f-bbb2-49f4-be1d-bfd3423fa2c2",
   "metadata": {},
   "outputs": [],
   "source": []
  },
  {
   "cell_type": "markdown",
   "id": "0177cb7e-226c-4ab2-971f-907496717dbc",
   "metadata": {},
   "source": [
    "## Red Neuronal"
   ]
  },
  {
   "cell_type": "code",
   "execution_count": 17,
   "id": "8832ceec-1390-4506-9b17-a985c39611b9",
   "metadata": {},
   "outputs": [
    {
     "name": "stdout",
     "output_type": "stream",
     "text": [
      "Epoch 1/10\n",
      "2500/2500 [==============================] - 3s 1ms/step - loss: 0.1648 - sparse_categorical_accuracy: 0.9541 - val_loss: 0.0112 - val_sparse_categorical_accuracy: 0.9981\n",
      "Epoch 2/10\n",
      "2500/2500 [==============================] - 3s 1ms/step - loss: 0.0049 - sparse_categorical_accuracy: 0.9993 - val_loss: 0.0019 - val_sparse_categorical_accuracy: 0.9999\n",
      "Epoch 3/10\n",
      "2500/2500 [==============================] - 3s 1ms/step - loss: 0.0012 - sparse_categorical_accuracy: 0.9999 - val_loss: 4.2419e-04 - val_sparse_categorical_accuracy: 1.0000\n",
      "Epoch 4/10\n",
      "2500/2500 [==============================] - 3s 1ms/step - loss: 5.7513e-04 - sparse_categorical_accuracy: 0.9999 - val_loss: 1.5692e-04 - val_sparse_categorical_accuracy: 1.0000\n",
      "Epoch 5/10\n",
      "2500/2500 [==============================] - 3s 1ms/step - loss: 4.4658e-04 - sparse_categorical_accuracy: 0.9999 - val_loss: 1.1232e-04 - val_sparse_categorical_accuracy: 1.0000\n",
      "Epoch 6/10\n",
      "2500/2500 [==============================] - 3s 1ms/step - loss: 6.5176e-05 - sparse_categorical_accuracy: 1.0000 - val_loss: 4.8872e-05 - val_sparse_categorical_accuracy: 1.0000\n",
      "Epoch 7/10\n",
      "2500/2500 [==============================] - 3s 1ms/step - loss: 4.0542e-04 - sparse_categorical_accuracy: 0.9999 - val_loss: 2.7180e-04 - val_sparse_categorical_accuracy: 1.0000\n",
      "Epoch 8/10\n",
      "2500/2500 [==============================] - 3s 1ms/step - loss: 4.9747e-04 - sparse_categorical_accuracy: 0.9999 - val_loss: 1.3643e-04 - val_sparse_categorical_accuracy: 1.0000\n",
      "Epoch 9/10\n",
      "2500/2500 [==============================] - 3s 1ms/step - loss: 3.7154e-04 - sparse_categorical_accuracy: 0.9999 - val_loss: 7.2909e-04 - val_sparse_categorical_accuracy: 0.9998\n",
      "Epoch 10/10\n",
      "2500/2500 [==============================] - 3s 1ms/step - loss: 3.8692e-04 - sparse_categorical_accuracy: 0.9999 - val_loss: 0.0010 - val_sparse_categorical_accuracy: 0.9996\n"
     ]
    }
   ],
   "source": [
    "import keras\n",
    "from keras.models import Sequential\n",
    "from keras.layers import Dense, Dropout, Activation\n",
    "\n",
    "\n",
    "\n",
    "model = Sequential()\n",
    "model.add(Dense(100, activation='relu', input_dim=17))\n",
    "model.add(Dense(100, activation='relu'))\n",
    "model.add(Dense(10, activation='softmax'))\n",
    "model.compile(loss='sparse_categorical_crossentropy',\n",
    "              optimizer='adam',\n",
    "              metrics=['sparse_categorical_accuracy'])\n",
    "\n",
    "\n",
    "history = model.fit(X_train, y_train, epochs = 10, batch_size = 256, verbose=1,validation_data=(X_val, y_val))\n"
   ]
  },
  {
   "cell_type": "code",
   "execution_count": 18,
   "id": "bc6aabb7-c210-495c-b820-f935fc6aead1",
   "metadata": {},
   "outputs": [
    {
     "name": "stdout",
     "output_type": "stream",
     "text": [
      "782/782 [==============================] - 1s 1ms/step - loss: 0.0011 - sparse_categorical_accuracy: 0.9996\n"
     ]
    },
    {
     "data": {
      "text/plain": [
       "[0.0011106736492365599, 0.9996399879455566]"
      ]
     },
     "execution_count": 18,
     "metadata": {},
     "output_type": "execute_result"
    }
   ],
   "source": [
    "score = model.evaluate(X_test, y_test, batch_size = 256)\n",
    "score"
   ]
  },
  {
   "cell_type": "code",
   "execution_count": 19,
   "id": "8af7ff20-dc48-4927-b3f0-5ca949b4e2b4",
   "metadata": {},
   "outputs": [],
   "source": [
    "pred=model.predict(X_test).argmax(axis=1)\n"
   ]
  },
  {
   "cell_type": "code",
   "execution_count": 20,
   "id": "c3ced660-b74c-4886-a0c7-45dc824f082c",
   "metadata": {},
   "outputs": [
    {
     "data": {
      "image/png": "[encoded data removed]",
      "text/plain": [
       "<Figure size 720x720 with 2 Axes>"
      ]
     },
     "metadata": {
      "needs_background": "light"
     },
     "output_type": "display_data"
    }
   ],
   "source": [
    "c_matrix = confusion_matrix(y_test, pred, normalize='true')\n",
    "\n",
    "fig, ax = plt.subplots(figsize=(10,10))\n",
    "sns.heatmap(c_matrix, annot=True, \n",
    "            cmap='Blues', ax=ax);  "
   ]
  }
 ],
 "metadata": {
  "kernelspec": {
   "display_name": "Python 3",
   "language": "python",
   "name": "python3"
  },
  "language_info": {
   "codemirror_mode": {
    "name": "ipython",
    "version": 3
   },
   "file_extension": ".py",
   "mimetype": "text/x-python",
   "name": "python",
   "nbconvert_exporter": "python",
   "pygments_lexer": "ipython3",
   "version": "3.8.8"
  }
 },
 "nbformat": 4,
 "nbformat_minor": 5
}
