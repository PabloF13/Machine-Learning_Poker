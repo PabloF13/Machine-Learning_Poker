{
 "cells": [
  {
   "cell_type": "markdown",
   "id": "ce3d6d51-4afc-446f-8574-8fce0f63fa61",
   "metadata": {},
   "source": [
    "## Bibliotecas"
   ]
  },
  {
   "cell_type": "code",
   "execution_count": 3,
   "id": "36c0638c-ed4e-4f3d-b10d-863013c2647e",
   "metadata": {},
   "outputs": [],
   "source": [
    "import numpy as np\n",
    "import pandas as pd \n",
    "import matplotlib.pyplot as plt\n",
    "import seaborn as sns\n",
    "from sklearn.model_selection import StratifiedShuffleSplit\n",
    "from sklearn.tree import DecisionTreeClassifier\n",
    "from sklearn.metrics import plot_confusion_matrix\n",
    "from sklearn.metrics import accuracy_score, f1_score, precision_score, recall_score,\\\n",
    "                            roc_auc_score, roc_curve, precision_recall_curve, confusion_matrix"
   ]
  },
  {
   "cell_type": "markdown",
   "id": "d88525ac-14d2-4deb-803f-b889f468fa47",
   "metadata": {},
   "source": [
    "## Importar Datos"
   ]
  },
  {
   "cell_type": "code",
   "execution_count": 4,
   "id": "80ac23c7-32cb-48d1-b225-fd77090f6d41",
   "metadata": {},
   "outputs": [],
   "source": [
    "features = ['PALO1', 'NUM1', 'PALO2', 'NUM2', 'PALO3', 'NUM3', 'PALO4', 'NUM4', 'PALO5', 'NUM5', 'HAND']\n",
    "TRAIN=pd.read_csv('poker-hand-testing.data', names=features)\n",
    "TEST=pd.read_csv('poker-hand-training-true.data', names=features)"
   ]
  },
  {
   "cell_type": "code",
   "execution_count": 5,
   "id": "117d518c-da52-444a-8a7a-ce482f09cb6b",
   "metadata": {},
   "outputs": [
    {
     "data": {
      "text/html": [
       "<div>\n",
       "<style scoped>\n",
       "    .dataframe tbody tr th:only-of-type {\n",
       "        vertical-align: middle;\n",
       "    }\n",
       "\n",
       "    .dataframe tbody tr th {\n",
       "        vertical-align: top;\n",
       "    }\n",
       "\n",
       "    .dataframe thead th {\n",
       "        text-align: right;\n",
       "    }\n",
       "</style>\n",
       "<table border=\"1\" class=\"dataframe\">\n",
       "  <thead>\n",
       "    <tr style=\"text-align: right;\">\n",
       "      <th></th>\n",
       "      <th>PALO1</th>\n",
       "      <th>NUM1</th>\n",
       "      <th>PALO2</th>\n",
       "      <th>NUM2</th>\n",
       "      <th>PALO3</th>\n",
       "      <th>NUM3</th>\n",
       "      <th>PALO4</th>\n",
       "      <th>NUM4</th>\n",
       "      <th>PALO5</th>\n",
       "      <th>NUM5</th>\n",
       "      <th>HAND</th>\n",
       "    </tr>\n",
       "  </thead>\n",
       "  <tbody>\n",
       "    <tr>\n",
       "      <th>0</th>\n",
       "      <td>1</td>\n",
       "      <td>1</td>\n",
       "      <td>1</td>\n",
       "      <td>13</td>\n",
       "      <td>2</td>\n",
       "      <td>4</td>\n",
       "      <td>2</td>\n",
       "      <td>3</td>\n",
       "      <td>1</td>\n",
       "      <td>12</td>\n",
       "      <td>0</td>\n",
       "    </tr>\n",
       "    <tr>\n",
       "      <th>1</th>\n",
       "      <td>3</td>\n",
       "      <td>12</td>\n",
       "      <td>3</td>\n",
       "      <td>2</td>\n",
       "      <td>3</td>\n",
       "      <td>11</td>\n",
       "      <td>4</td>\n",
       "      <td>5</td>\n",
       "      <td>2</td>\n",
       "      <td>5</td>\n",
       "      <td>1</td>\n",
       "    </tr>\n",
       "    <tr>\n",
       "      <th>2</th>\n",
       "      <td>1</td>\n",
       "      <td>9</td>\n",
       "      <td>4</td>\n",
       "      <td>6</td>\n",
       "      <td>1</td>\n",
       "      <td>4</td>\n",
       "      <td>3</td>\n",
       "      <td>2</td>\n",
       "      <td>3</td>\n",
       "      <td>9</td>\n",
       "      <td>1</td>\n",
       "    </tr>\n",
       "    <tr>\n",
       "      <th>3</th>\n",
       "      <td>1</td>\n",
       "      <td>4</td>\n",
       "      <td>3</td>\n",
       "      <td>13</td>\n",
       "      <td>2</td>\n",
       "      <td>13</td>\n",
       "      <td>2</td>\n",
       "      <td>1</td>\n",
       "      <td>3</td>\n",
       "      <td>6</td>\n",
       "      <td>1</td>\n",
       "    </tr>\n",
       "    <tr>\n",
       "      <th>4</th>\n",
       "      <td>3</td>\n",
       "      <td>10</td>\n",
       "      <td>2</td>\n",
       "      <td>7</td>\n",
       "      <td>1</td>\n",
       "      <td>2</td>\n",
       "      <td>2</td>\n",
       "      <td>11</td>\n",
       "      <td>4</td>\n",
       "      <td>9</td>\n",
       "      <td>0</td>\n",
       "    </tr>\n",
       "  </tbody>\n",
       "</table>\n",
       "</div>"
      ],
      "text/plain": [
       "   PALO1  NUM1  PALO2  NUM2  PALO3  NUM3  PALO4  NUM4  PALO5  NUM5  HAND\n",
       "0      1     1      1    13      2     4      2     3      1    12     0\n",
       "1      3    12      3     2      3    11      4     5      2     5     1\n",
       "2      1     9      4     6      1     4      3     2      3     9     1\n",
       "3      1     4      3    13      2    13      2     1      3     6     1\n",
       "4      3    10      2     7      1     2      2    11      4     9     0"
      ]
     },
     "execution_count": 5,
     "metadata": {},
     "output_type": "execute_result"
    }
   ],
   "source": [
    "TRAIN.head(5)\n"
   ]
  },
  {
   "cell_type": "markdown",
   "id": "b9b58eab-625f-4038-ba9f-d0e39de1dbab",
   "metadata": {},
   "source": [
    "## EDA"
   ]
  },
  {
   "cell_type": "code",
   "execution_count": 6,
   "id": "6784130c-bd1f-45bb-bdfb-54e5b25f5878",
   "metadata": {},
   "outputs": [
    {
     "name": "stdout",
     "output_type": "stream",
     "text": [
      "1000000\n",
      "11\n",
      "25010\n",
      "11\n"
     ]
    }
   ],
   "source": [
    "print(len(TRAIN.index))\n",
    "print(len(TRAIN.columns))\n",
    "print(len(TEST.index))\n",
    "print(len(TEST.columns))"
   ]
  },
  {
   "cell_type": "code",
   "execution_count": 7,
   "id": "b9fb04db-82c8-4b21-9ae2-272fd31fc9ca",
   "metadata": {
    "collapsed": true,
    "jupyter": {
     "outputs_hidden": true
    },
    "tags": []
   },
   "outputs": [
    {
     "name": "stdout",
     "output_type": "stream",
     "text": [
      "<class 'pandas.core.frame.DataFrame'>\n",
      "RangeIndex: 1000000 entries, 0 to 999999\n",
      "Data columns (total 11 columns):\n",
      " #   Column  Non-Null Count    Dtype\n",
      "---  ------  --------------    -----\n",
      " 0   PALO1   1000000 non-null  int64\n",
      " 1   NUM1    1000000 non-null  int64\n",
      " 2   PALO2   1000000 non-null  int64\n",
      " 3   NUM2    1000000 non-null  int64\n",
      " 4   PALO3   1000000 non-null  int64\n",
      " 5   NUM3    1000000 non-null  int64\n",
      " 6   PALO4   1000000 non-null  int64\n",
      " 7   NUM4    1000000 non-null  int64\n",
      " 8   PALO5   1000000 non-null  int64\n",
      " 9   NUM5    1000000 non-null  int64\n",
      " 10  HAND    1000000 non-null  int64\n",
      "dtypes: int64(11)\n",
      "memory usage: 83.9 MB\n",
      "None\n",
      "<class 'pandas.core.frame.DataFrame'>\n",
      "RangeIndex: 25010 entries, 0 to 25009\n",
      "Data columns (total 11 columns):\n",
      " #   Column  Non-Null Count  Dtype\n",
      "---  ------  --------------  -----\n",
      " 0   PALO1   25010 non-null  int64\n",
      " 1   NUM1    25010 non-null  int64\n",
      " 2   PALO2   25010 non-null  int64\n",
      " 3   NUM2    25010 non-null  int64\n",
      " 4   PALO3   25010 non-null  int64\n",
      " 5   NUM3    25010 non-null  int64\n",
      " 6   PALO4   25010 non-null  int64\n",
      " 7   NUM4    25010 non-null  int64\n",
      " 8   PALO5   25010 non-null  int64\n",
      " 9   NUM5    25010 non-null  int64\n",
      " 10  HAND    25010 non-null  int64\n",
      "dtypes: int64(11)\n",
      "memory usage: 2.1 MB\n",
      "None\n"
     ]
    }
   ],
   "source": [
    "print(TRAIN.info())\n",
    "print(TEST.info())"
   ]
  },
  {
   "cell_type": "code",
   "execution_count": 8,
   "id": "f353a971-e2d3-4dd1-8c4f-88f9ad18f973",
   "metadata": {
    "tags": []
   },
   "outputs": [],
   "source": [
    "poker_hands = [0, 1, 2, 3, 4, 5, 6, 7, 8, 9]\n",
    "hand_name = {\n",
    "    0: 'Nada',\n",
    "    1: 'Pareja',\n",
    "    2: 'Doble pareja',\n",
    "    3: 'Trío',\n",
    "    4: 'Escalera',\n",
    "    5: 'Color',\n",
    "    6: 'Full',\n",
    "    7: 'Poker',\n",
    "    8: 'Escalera Color',\n",
    "    9: 'Escalera Real',\n",
    "}"
   ]
  },
  {
   "cell_type": "markdown",
   "id": "afa81ef9-c789-44b3-b7fd-7adb5ad8ac64",
   "metadata": {},
   "source": [
    "## Jugadas en TRAIN"
   ]
  },
  {
   "cell_type": "code",
   "execution_count": 9,
   "id": "73af7ef6-7592-4079-846a-c091a9c2a16f",
   "metadata": {},
   "outputs": [
    {
     "name": "stdout",
     "output_type": "stream",
     "text": [
      "{0: 501209, 1: 422498, 2: 47622, 3: 21121, 4: 3885, 5: 1996, 6: 1424, 7: 230, 8: 12, 9: 3}\n"
     ]
    }
   ],
   "source": [
    "manos = 10  \n",
    "num_jugadas = {}\n",
    "for mano in range(manos):\n",
    "    num_jugadas[mano] = len(TRAIN[TRAIN.HAND==mano])\n",
    "print(num_jugadas)"
   ]
  },
  {
   "cell_type": "code",
   "execution_count": 10,
   "id": "e2747f3b-8ab1-4560-9eee-676439042266",
   "metadata": {},
   "outputs": [
    {
     "name": "stdout",
     "output_type": "stream",
     "text": [
      "Nada: 501209\n",
      "Pareja: 422498\n",
      "Doble pareja: 47622\n",
      "Trío: 21121\n",
      "Escalera: 3885\n",
      "Color: 1996\n",
      "Full: 1424\n",
      "Poker: 230\n",
      "Escalera Color: 12\n",
      "Escalera Real: 3\n"
     ]
    }
   ],
   "source": [
    "for hand in poker_hands:\n",
    "    print(\"%s: %d\" % (hand_name[hand], num_jugadas[hand]))"
   ]
  },
  {
   "cell_type": "code",
   "execution_count": 12,
   "id": "6e35d520-2c19-4ee1-9e05-ab09297dc869",
   "metadata": {},
   "outputs": [
    {
     "data": {
      "image/png": "[encoded data removed]",
      "text/plain": [
       "<Figure size 432x288 with 1 Axes>"
      ]
     },
     "metadata": {
      "needs_background": "light"
     },
     "output_type": "display_data"
    }
   ],
   "source": [
    "plt.bar(poker_hands, [num_jugadas[hand] for hand in poker_hands], align='center')\n",
    "plt.xlabel('Jugadas')\n",
    "plt.ylabel('Numero de jugadas');"
   ]
  },
  {
   "cell_type": "markdown",
   "id": "f3410be7-6ba0-4241-8c33-a9f9b6a056ef",
   "metadata": {},
   "source": [
    "## Jugadas en TEST"
   ]
  },
  {
   "cell_type": "code",
   "execution_count": 14,
   "id": "fd254d6c-759e-4f7d-a4bf-7dc56c179f12",
   "metadata": {},
   "outputs": [
    {
     "name": "stdout",
     "output_type": "stream",
     "text": [
      "{0: 12493, 1: 10599, 2: 1206, 3: 513, 4: 93, 5: 54, 6: 36, 7: 6, 8: 5, 9: 5}\n"
     ]
    }
   ],
   "source": [
    "manos = 10  \n",
    "num_jugadas = {}\n",
    "for mano in range(manos):\n",
    "    num_jugadas[mano] = len(TEST[TEST.HAND==mano])\n",
    "print(num_jugadas)"
   ]
  },
  {
   "cell_type": "code",
   "execution_count": 15,
   "id": "68403c95-4cd9-406c-8303-9109e59764fd",
   "metadata": {},
   "outputs": [
    {
     "name": "stdout",
     "output_type": "stream",
     "text": [
      "Nada: 12493\n",
      "Pareja: 10599\n",
      "Doble pareja: 1206\n",
      "Trío: 513\n",
      "Escalera: 93\n",
      "Color: 54\n",
      "Full: 36\n",
      "Poker: 6\n",
      "Escalera Color: 5\n",
      "Escalera Real: 5\n"
     ]
    }
   ],
   "source": [
    "for hand in poker_hands:\n",
    "    print(\"%s: %d\" % (hand_name[hand], num_jugadas[hand]))"
   ]
  },
  {
   "cell_type": "code",
   "execution_count": 16,
   "id": "7d7a1372-9299-4efa-800e-63465b2ce2fd",
   "metadata": {},
   "outputs": [
    {
     "data": {
      "image/png": "[encoded data removed]",
      "text/plain": [
       "<Figure size 432x288 with 1 Axes>"
      ]
     },
     "metadata": {
      "needs_background": "light"
     },
     "output_type": "display_data"
    }
   ],
   "source": [
    "plt.bar(poker_hands, [num_jugadas[hand] for hand in poker_hands], align='center')\n",
    "plt.xlabel('Jugadas')\n",
    "plt.ylabel('Numero de jugadas');"
   ]
  }
 ],
 "metadata": {
  "kernelspec": {
   "display_name": "Python 3",
   "language": "python",
   "name": "python3"
  },
  "language_info": {
   "codemirror_mode": {
    "name": "ipython",
    "version": 3
   },
   "file_extension": ".py",
   "mimetype": "text/x-python",
   "name": "python",
   "nbconvert_exporter": "python",
   "pygments_lexer": "ipython3",
   "version": "3.8.8"
  }
 },
 "nbformat": 4,
 "nbformat_minor": 5
}
